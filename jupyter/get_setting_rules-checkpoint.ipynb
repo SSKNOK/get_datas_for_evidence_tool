{
 "cells": [
  {
   "cell_type": "code",
   "execution_count": 26,
   "id": "09ec3806",
   "metadata": {},
   "outputs": [],
   "source": [
    "########################################################################################\n",
    "# ツール設定ファイル読み込み処理\n",
    "# [概要]ツール設定ファイルを読み込んで辞書として返却します。\n",
    "########################################################################################\n",
    "\n",
    "# モジュール読み込み\n",
    "import os\n",
    "\n",
    "def get_tool_setting():\n",
    "    \n",
    "    # rootパス取得\n",
    "    root_dir_path = \"C:\\\\ssknok_work\\\\05_development\\\\get_datas_for_evidence_tool\\\\setting\"\n",
    "\n",
    "    # ツール設定ファイル絶対パス\n",
    "    root_file_path = os.path.join(root_dir_path, \"tool_setting.txt\")\n",
    "\n",
    "    # ツール設定ルール辞書\n",
    "    setting_dict = {}\n",
    "\n",
    "    # ツール設定ファイル読み込んで辞書型のオブジェクトに変換\n",
    "    with open(root_file_path, 'r', encoding='utf-8') as setting_file:\n",
    "        for setting_rule in setting_file:\n",
    "\n",
    "            if setting_rule.startswith(\"#\"):\n",
    "                continue\n",
    "            if setting_rule == NEW_LINE_MARK:\n",
    "                continue\n",
    "\n",
    "            setting_item = setting_rule.replace(\"\\n\",\"\").split(\"=\")[0].strip()\n",
    "            setting_value = setting_rule.replace(\"\\n\",\"\").split(\"=\")[1].strip()\n",
    "\n",
    "            setting_dict[setting_item] = setting_value\n",
    "\n",
    "    return setting_dict"
   ]
  },
  {
   "cell_type": "code",
   "execution_count": null,
   "id": "f880fa13",
   "metadata": {},
   "outputs": [],
   "source": [
    "########################################################################################\n",
    "# 実行SQL組み立て処理\n",
    "#[概要]\n",
    "########################################################################################\n",
    "\n",
    "# モジュール読み込み\n",
    "import os\n",
    "\n",
    "def assembly_sql_list():\n",
    "        \n",
    "        # rootパス取得\n",
    "        root_dir_path = \"C:\\\\ssknok_work\\\\05_development\\\\get_datas_for_evidence_tool\\\\setting\"\n",
    "\n",
    "        # クエリ設定ファイル絶対パス\n",
    "        root_file_path = os.path.join(root_dir_path, \"query_condition.txt\")\n",
    "        \n",
    "        # クエリ対象リスト（{テーブル物理名, テーブル論理名取得SQL, カラム名取得SQL, データ取得SQL}を各行に格納）\n",
    "        query_condition_list = []\n",
    "        \n",
    "       # ツール設定ファイル読み込んで辞書型のオブジェクトに変換\n",
    "        with open(root_file_path, 'r', encoding='utf-8') as query_file:\n",
    "            for query_condition in query_file:"
   ]
  },
  {
   "cell_type": "code",
   "execution_count": null,
   "id": "ec818f1c",
   "metadata": {},
   "outputs": [],
   "source": []
  },
  {
   "cell_type": "code",
   "execution_count": 27,
   "id": "f8257530",
   "metadata": {},
   "outputs": [
    {
     "name": "stdout",
     "output_type": "stream",
     "text": [
      "{'output_file_name': 'test.xlsx', 'base_file': 'template.xlsx', 'output_to_input_file_path': 'no'}\n"
     ]
    }
   ],
   "source": [
    "setting_dict = get_tool_setting()\n",
    "print(setting_dict)"
   ]
  },
  {
   "cell_type": "code",
   "execution_count": null,
   "id": "b33a79de",
   "metadata": {},
   "outputs": [],
   "source": []
  }
 ],
 "metadata": {
  "kernelspec": {
   "display_name": "Python 3 (ipykernel)",
   "language": "python",
   "name": "python3"
  },
  "language_info": {
   "codemirror_mode": {
    "name": "ipython",
    "version": 3
   },
   "file_extension": ".py",
   "mimetype": "text/x-python",
   "name": "python",
   "nbconvert_exporter": "python",
   "pygments_lexer": "ipython3",
   "version": "3.9.13"
  }
 },
 "nbformat": 4,
 "nbformat_minor": 5
}
